{
 "cells": [
  {
   "cell_type": "markdown",
   "metadata": {},
   "source": [
    "# [作業目標]\n",
    "- 對資料做更多處理 : 顯示特定欄位的統計值與直方圖"
   ]
  },
  {
   "cell_type": "markdown",
   "metadata": {},
   "source": [
    "# [作業重點]\n",
    "- 試著顯示特定欄位的基礎統計數值 (In[4], Out[4], Hint : describe())\n",
    "- 試著顯示特定欄位的直方圖 (In[5], Out[5], Hint : .hist())"
   ]
  },
  {
   "cell_type": "code",
   "execution_count": 1,
   "metadata": {},
   "outputs": [],
   "source": [
    "# Import 需要的套件\n",
    "import os\n",
    "import numpy as np\n",
    "import pandas as pd\n",
    "\n",
    "# 設定 data_path\n",
    "dir_data = './data/'"
   ]
  },
  {
   "cell_type": "code",
   "execution_count": 3,
   "metadata": {},
   "outputs": [],
   "source": [
    "f_app_train = os.path.join(dir_data, 'application_train.csv')\n",
    "app_train = pd.read_csv(f_app_train)"
   ]
  },
  {
   "cell_type": "code",
   "execution_count": 4,
   "metadata": {},
   "outputs": [],
   "source": [
    "import matplotlib.pyplot as plt\n",
    "%matplotlib inline"
   ]
  },
  {
   "cell_type": "markdown",
   "metadata": {},
   "source": [
    "## 練習時間"
   ]
  },
  {
   "cell_type": "markdown",
   "metadata": {},
   "source": [
    "觀察有興趣的欄位的資料分佈，並嘗試找出有趣的訊息\n",
    "#### Eg\n",
    "- 計算任意欄位的平均數及標準差\n",
    "- 畫出任意欄位的[直方圖](https://zh.wikipedia.org/zh-tw/%E7%9B%B4%E6%96%B9%E5%9B%BE)\n",
    "\n",
    "### Hints:\n",
    "- [Descriptive Statistics For pandas Dataframe](https://chrisalbon.com/python/data_wrangling/pandas_dataframe_descriptive_stats/)\n",
    "- [pandas 中的繪圖函數](https://amaozhao.gitbooks.io/pandas-notebook/content/pandas%E4%B8%AD%E7%9A%84%E7%BB%98%E5%9B%BE%E5%87%BD%E6%95%B0.html)\n"
   ]
  },
  {
   "cell_type": "code",
   "execution_count": 25,
   "metadata": {},
   "outputs": [
    {
     "name": "stdout",
     "output_type": "stream",
     "text": [
      "(307511, 122)\n"
     ]
    },
    {
     "data": {
      "text/html": [
       "<div>\n",
       "<style scoped>\n",
       "    .dataframe tbody tr th:only-of-type {\n",
       "        vertical-align: middle;\n",
       "    }\n",
       "\n",
       "    .dataframe tbody tr th {\n",
       "        vertical-align: top;\n",
       "    }\n",
       "\n",
       "    .dataframe thead th {\n",
       "        text-align: right;\n",
       "    }\n",
       "</style>\n",
       "<table border=\"1\" class=\"dataframe\">\n",
       "  <thead>\n",
       "    <tr style=\"text-align: right;\">\n",
       "      <th></th>\n",
       "      <th>AMT_INCOME_TOTAL</th>\n",
       "    </tr>\n",
       "  </thead>\n",
       "  <tbody>\n",
       "    <tr>\n",
       "      <td>0</td>\n",
       "      <td>202500.0</td>\n",
       "    </tr>\n",
       "    <tr>\n",
       "      <td>1</td>\n",
       "      <td>270000.0</td>\n",
       "    </tr>\n",
       "    <tr>\n",
       "      <td>2</td>\n",
       "      <td>67500.0</td>\n",
       "    </tr>\n",
       "    <tr>\n",
       "      <td>3</td>\n",
       "      <td>135000.0</td>\n",
       "    </tr>\n",
       "    <tr>\n",
       "      <td>4</td>\n",
       "      <td>121500.0</td>\n",
       "    </tr>\n",
       "  </tbody>\n",
       "</table>\n",
       "</div>"
      ],
      "text/plain": [
       "   AMT_INCOME_TOTAL\n",
       "0          202500.0\n",
       "1          270000.0\n",
       "2           67500.0\n",
       "3          135000.0\n",
       "4          121500.0"
      ]
     },
     "execution_count": 25,
     "metadata": {},
     "output_type": "execute_result"
    }
   ],
   "source": [
    "print(app_train.shape)\n",
    "sub_train = pd.DataFrame(app_train['AMT_INCOME_TOTAL'])\n",
    "sub_train.head()"
   ]
  },
  {
   "cell_type": "code",
   "execution_count": 10,
   "metadata": {},
   "outputs": [
    {
     "name": "stdout",
     "output_type": "stream",
     "text": [
      "168797.9192969845\n",
      "237123.14627883647\n",
      "count    3.075110e+05\n",
      "mean     1.687979e+05\n",
      "std      2.371231e+05\n",
      "min      2.565000e+04\n",
      "25%      1.125000e+05\n",
      "50%      1.471500e+05\n",
      "75%      2.025000e+05\n",
      "max      1.170000e+08\n",
      "Name: AMT_INCOME_TOTAL, dtype: float64\n"
     ]
    }
   ],
   "source": [
    "#平均數跟標準差\n",
    "print(sub_train['AMT_INCOME_TOTAL'].mean())\n",
    "print(sub_train['AMT_INCOME_TOTAL'].std())\n",
    "print(sub_train['AMT_INCOME_TOTAL'].describe())"
   ]
  },
  {
   "cell_type": "code",
   "execution_count": 31,
   "metadata": {},
   "outputs": [
    {
     "data": {
      "text/plain": [
       "array([[<matplotlib.axes._subplots.AxesSubplot object at 0x000001F212782C48>]],\n",
       "      dtype=object)"
      ]
     },
     "execution_count": 31,
     "metadata": {},
     "output_type": "execute_result"
    },
    {
     "data": {
      "image/png": "[encoded data removed]",
      "text/plain": [
       "<Figure size 432x288 with 1 Axes>"
      ]
     },
     "metadata": {
      "needs_background": "light"
     },
     "output_type": "display_data"
    },
    {
     "data": {
      "image/png": "[encoded data removed]",
      "text/plain": [
       "<Figure size 432x288 with 1 Axes>"
      ]
     },
     "metadata": {
      "needs_background": "light"
     },
     "output_type": "display_data"
    },
    {
     "data": {
      "image/png": "[encoded data removed]",
      "text/plain": [
       "<Figure size 432x288 with 1 Axes>"
      ]
     },
     "metadata": {
      "needs_background": "light"
     },
     "output_type": "display_data"
    }
   ],
   "source": [
    "#直方圖\n",
    "app_train.hist(column=\"AMT_INCOME_TOTAL\", bins=10)     #為什麼畫出來長這樣?????\n",
    "app_train.head(1000).hist(column=\"AMT_INCOME_TOTAL\",bins=100)\n",
    "app_train.head(1000).hist(column=\"AMT_CREDIT\",bins=100)"
   ]
  },
  {
   "cell_type": "code",
   "execution_count": 38,
   "metadata": {},
   "outputs": [
    {
     "data": {
      "text/plain": [
       "(array([   69.,  1260.,  2693.,  3874.,  3455.,     0.,  9073.,  1796.,\n",
       "        10391., 17806.,  5291.,  7447., 11406., 12813., 10979.,  6332.,\n",
       "            0.,     0.,     0.,  8207.,  6824.,     0.,  4408.,     0.,\n",
       "        12219., 20814., 14866.,  7178.,  8066.,     0.,  6943.,  3807.,\n",
       "            0.,  6404., 11950.,     0., 11601.,     0.,     0., 11157.,\n",
       "            0.,     0., 23484.,     0.,  6636.,     0.,     0.,     0.,\n",
       "            0., 16408.,     0.,     0.,     0.,     0.,     0.,     0.,\n",
       "            0.,     0.,     0.,     0.,     0.,     0.,     0., 13442.,\n",
       "            0.,     0.,     0.,     0.,     0.,     0.,     0.,     0.,\n",
       "            0.,     0.,     0.,     0.,     0.,     0.,     0.,     0.,\n",
       "            0.,     0.,     0.,     0.,     0.,     0.,     0.,     0.,\n",
       "            0.,     0.,     0.,     0.,     0.,     0.,     0.,     0.,\n",
       "            0.,     0.,     0.,  8412.]),\n",
       " array([0.00029   , 0.00101218, 0.00173436, 0.00245654, 0.00317872,\n",
       "        0.0039009 , 0.00462308, 0.00534526, 0.00606744, 0.00678962,\n",
       "        0.0075118 , 0.00823398, 0.00895616, 0.00967834, 0.01040052,\n",
       "        0.0111227 , 0.01184488, 0.01256706, 0.01328924, 0.01401142,\n",
       "        0.0147336 , 0.01545578, 0.01617796, 0.01690014, 0.01762232,\n",
       "        0.0183445 , 0.01906668, 0.01978886, 0.02051104, 0.02123322,\n",
       "        0.0219554 , 0.02267758, 0.02339976, 0.02412194, 0.02484412,\n",
       "        0.0255663 , 0.02628848, 0.02701066, 0.02773284, 0.02845502,\n",
       "        0.0291772 , 0.02989938, 0.03062156, 0.03134374, 0.03206592,\n",
       "        0.0327881 , 0.03351028, 0.03423246, 0.03495464, 0.03567682,\n",
       "        0.036399  , 0.03712118, 0.03784336, 0.03856554, 0.03928772,\n",
       "        0.0400099 , 0.04073208, 0.04145426, 0.04217644, 0.04289862,\n",
       "        0.0436208 , 0.04434298, 0.04506516, 0.04578734, 0.04650952,\n",
       "        0.0472317 , 0.04795388, 0.04867606, 0.04939824, 0.05012042,\n",
       "        0.0508426 , 0.05156478, 0.05228696, 0.05300914, 0.05373132,\n",
       "        0.0544535 , 0.05517568, 0.05589786, 0.05662004, 0.05734222,\n",
       "        0.0580644 , 0.05878658, 0.05950876, 0.06023094, 0.06095312,\n",
       "        0.0616753 , 0.06239748, 0.06311966, 0.06384184, 0.06456402,\n",
       "        0.0652862 , 0.06600838, 0.06673056, 0.06745274, 0.06817492,\n",
       "        0.0688971 , 0.06961928, 0.07034146, 0.07106364, 0.07178582,\n",
       "        0.072508  ]),\n",
       " <a list of 100 Patch objects>)"
      ]
     },
     "execution_count": 38,
     "metadata": {},
     "output_type": "execute_result"
    },
    {
     "data": {
      "image/png": "[encoded data removed]",
      "text/plain": [
       "<Figure size 432x288 with 1 Axes>"
      ]
     },
     "metadata": {
      "needs_background": "light"
     },
     "output_type": "display_data"
    }
   ],
   "source": [
    "plt.hist(app_train['REGION_POPULATION_RELATIVE'],bins=100)"
   ]
  },
  {
   "cell_type": "code",
   "execution_count": 39,
   "metadata": {},
   "outputs": [
    {
     "data": {
      "text/plain": [
       "(array([3.07353e+05, 1.38000e+02, 7.00000e+00, 8.00000e+00, 0.00000e+00,\n",
       "        1.00000e+00, 0.00000e+00, 1.00000e+00, 0.00000e+00, 0.00000e+00,\n",
       "        0.00000e+00, 1.00000e+00, 0.00000e+00, 0.00000e+00, 0.00000e+00,\n",
       "        1.00000e+00, 0.00000e+00, 0.00000e+00, 0.00000e+00, 0.00000e+00,\n",
       "        0.00000e+00, 0.00000e+00, 0.00000e+00, 0.00000e+00, 0.00000e+00,\n",
       "        0.00000e+00, 0.00000e+00, 0.00000e+00, 0.00000e+00, 0.00000e+00,\n",
       "        0.00000e+00, 0.00000e+00, 0.00000e+00, 0.00000e+00, 0.00000e+00,\n",
       "        0.00000e+00, 0.00000e+00, 0.00000e+00, 0.00000e+00, 0.00000e+00,\n",
       "        0.00000e+00, 0.00000e+00, 0.00000e+00, 0.00000e+00, 0.00000e+00,\n",
       "        0.00000e+00, 0.00000e+00, 0.00000e+00, 0.00000e+00, 0.00000e+00,\n",
       "        0.00000e+00, 0.00000e+00, 0.00000e+00, 0.00000e+00, 0.00000e+00,\n",
       "        0.00000e+00, 0.00000e+00, 0.00000e+00, 0.00000e+00, 0.00000e+00,\n",
       "        0.00000e+00, 0.00000e+00, 0.00000e+00, 0.00000e+00, 0.00000e+00,\n",
       "        0.00000e+00, 0.00000e+00, 0.00000e+00, 0.00000e+00, 0.00000e+00,\n",
       "        0.00000e+00, 0.00000e+00, 0.00000e+00, 0.00000e+00, 0.00000e+00,\n",
       "        0.00000e+00, 0.00000e+00, 0.00000e+00, 0.00000e+00, 0.00000e+00,\n",
       "        0.00000e+00, 0.00000e+00, 0.00000e+00, 0.00000e+00, 0.00000e+00,\n",
       "        0.00000e+00, 0.00000e+00, 0.00000e+00, 0.00000e+00, 0.00000e+00,\n",
       "        0.00000e+00, 0.00000e+00, 0.00000e+00, 0.00000e+00, 0.00000e+00,\n",
       "        0.00000e+00, 0.00000e+00, 0.00000e+00, 0.00000e+00, 1.00000e+00]),\n",
       " array([2.56500000e+04, 1.19539350e+06, 2.36513700e+06, 3.53488050e+06,\n",
       "        4.70462400e+06, 5.87436750e+06, 7.04411100e+06, 8.21385450e+06,\n",
       "        9.38359800e+06, 1.05533415e+07, 1.17230850e+07, 1.28928285e+07,\n",
       "        1.40625720e+07, 1.52323155e+07, 1.64020590e+07, 1.75718025e+07,\n",
       "        1.87415460e+07, 1.99112895e+07, 2.10810330e+07, 2.22507765e+07,\n",
       "        2.34205200e+07, 2.45902635e+07, 2.57600070e+07, 2.69297505e+07,\n",
       "        2.80994940e+07, 2.92692375e+07, 3.04389810e+07, 3.16087245e+07,\n",
       "        3.27784680e+07, 3.39482115e+07, 3.51179550e+07, 3.62876985e+07,\n",
       "        3.74574420e+07, 3.86271855e+07, 3.97969290e+07, 4.09666725e+07,\n",
       "        4.21364160e+07, 4.33061595e+07, 4.44759030e+07, 4.56456465e+07,\n",
       "        4.68153900e+07, 4.79851335e+07, 4.91548770e+07, 5.03246205e+07,\n",
       "        5.14943640e+07, 5.26641075e+07, 5.38338510e+07, 5.50035945e+07,\n",
       "        5.61733380e+07, 5.73430815e+07, 5.85128250e+07, 5.96825685e+07,\n",
       "        6.08523120e+07, 6.20220555e+07, 6.31917990e+07, 6.43615425e+07,\n",
       "        6.55312860e+07, 6.67010295e+07, 6.78707730e+07, 6.90405165e+07,\n",
       "        7.02102600e+07, 7.13800035e+07, 7.25497470e+07, 7.37194905e+07,\n",
       "        7.48892340e+07, 7.60589775e+07, 7.72287210e+07, 7.83984645e+07,\n",
       "        7.95682080e+07, 8.07379515e+07, 8.19076950e+07, 8.30774385e+07,\n",
       "        8.42471820e+07, 8.54169255e+07, 8.65866690e+07, 8.77564125e+07,\n",
       "        8.89261560e+07, 9.00958995e+07, 9.12656430e+07, 9.24353865e+07,\n",
       "        9.36051300e+07, 9.47748735e+07, 9.59446170e+07, 9.71143605e+07,\n",
       "        9.82841040e+07, 9.94538475e+07, 1.00623591e+08, 1.01793334e+08,\n",
       "        1.02963078e+08, 1.04132822e+08, 1.05302565e+08, 1.06472308e+08,\n",
       "        1.07642052e+08, 1.08811796e+08, 1.09981539e+08, 1.11151282e+08,\n",
       "        1.12321026e+08, 1.13490770e+08, 1.14660513e+08, 1.15830256e+08,\n",
       "        1.17000000e+08]),\n",
       " <a list of 100 Patch objects>)"
      ]
     },
     "execution_count": 39,
     "metadata": {},
     "output_type": "execute_result"
    },
    {
     "data": {
      "image/png": "[encoded data removed]",
      "text/plain": [
       "<Figure size 432x288 with 1 Axes>"
      ]
     },
     "metadata": {
      "needs_background": "light"
     },
     "output_type": "display_data"
    }
   ],
   "source": [
    "plt.hist(app_train['AMT_INCOME_TOTAL'],bins=100)"
   ]
  },
  {
   "cell_type": "code",
   "execution_count": null,
   "metadata": {},
   "outputs": [],
   "source": []
  }
 ],
 "metadata": {
  "kernelspec": {
   "display_name": "Python 3",
   "language": "python",
   "name": "python3"
  },
  "language_info": {
   "codemirror_mode": {
    "name": "ipython",
    "version": 3
   },
   "file_extension": ".py",
   "mimetype": "text/x-python",
   "name": "python",
   "nbconvert_exporter": "python",
   "pygments_lexer": "ipython3",
   "version": "3.7.4"
  }
 },
 "nbformat": 4,
 "nbformat_minor": 2
}
